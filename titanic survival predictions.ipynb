{
 "cells": [
  {
   "cell_type": "code",
   "execution_count": null,
   "id": "5739dfe0",
   "metadata": {},
   "outputs": [],
   "source": [
    "import pandas as pd\n",
    "import numpy as np\n",
    "import statsmodels\n",
    "from sklearn.preprocessing import StandardScaler\n",
    "from sklearn.linear_model import LogisticRegression\n",
    "from sklearn.model_selection import train_test_split\n",
    "from sklearn.metrics import accuracy_score, confusion_matrix, roc_curve, roc_auc_score\n",
    "import matplotlib.pyplot as plt\n",
    "import seaborn as sns\n",
    "\n",
    "import warnings\n",
    "warnings.filterwarnings('ignore')"
   ]
  },
  {
   "cell_type": "code",
   "execution_count": null,
   "id": "fdfdf1b0",
   "metadata": {},
   "outputs": [],
   "source": [
    "\n",
    "\n",
    "# Read the Excel file\n",
    "titanic_data = pd.read_excel(\"C:\\\\Users\\\\Mannu\\\\Desktop\\\\ai model train data\\\\titanic 2 data.xlsx\")\n",
    "\n",
    "# Specify the output CSV file path (adjust as needed)\n",
    "output_csv_file = \"titanic_data.csv\"\n",
    "\n",
    "# Convert DataFrame to CSV\n",
    "titanic_data.to_csv(output_csv_file, index=False)\n",
    "\n"
   ]
  },
  {
   "cell_type": "code",
   "execution_count": null,
   "id": "b3c30f93",
   "metadata": {},
   "outputs": [],
   "source": [
    "titanic_data= pd.read_csv(\"titanic_data.csv\") #read the file\n",
    "titanic_data.head()"
   ]
  },
  {
   "cell_type": "code",
   "execution_count": null,
   "id": "8823b5d5",
   "metadata": {
    "scrolled": true
   },
   "outputs": [],
   "source": [
    "print('data shape', titanic_data.shape)\n",
    "print('for see data null', titanic_data.isnull().sum())\n",
    "\n"
   ]
  },
  {
   "cell_type": "code",
   "execution_count": null,
   "id": "62b64b62",
   "metadata": {},
   "outputs": [],
   "source": [
    "titanic_data['Age'].fillna(titanic_data['Age'].mean(), inplace=True)\n",
    "print(titanic_data['Embarked'].mode()) #finding the mode value of embarked "
   ]
  },
  {
   "cell_type": "code",
   "execution_count": null,
   "id": "70eb5667",
   "metadata": {},
   "outputs": [],
   "source": [
    "print(titanic_data['Embarked'].mode()[0])\n",
    "titanic_data['Embarked'].fillna(titanic_data['Embarked'].mode()[0], inplace=True) #fill missing Embarked value with mode in data"
   ]
  },
  {
   "cell_type": "code",
   "execution_count": null,
   "id": "7a02c286",
   "metadata": {},
   "outputs": [],
   "source": [
    "titanic_data['Survived'].value_counts()\n",
    "titanic_data['Sex'].value_counts()\n"
   ]
  },
  {
   "cell_type": "code",
   "execution_count": null,
   "id": "a523f3a5",
   "metadata": {},
   "outputs": [],
   "source": [
    "sns.set()"
   ]
  },
  {
   "cell_type": "code",
   "execution_count": null,
   "id": "bfab9351",
   "metadata": {},
   "outputs": [],
   "source": [
    "\n",
    "\n",
    "# Assuming titanic_data is your DataFrame\n",
    "\n",
    "sns.countplot(x='Survived', data=titanic_data, hue='Sex')\n",
    "plt.title('Survival Count by Sex')\n",
    "plt.xlabel('Survived')\n",
    "plt.ylabel('Count')\n",
    "plt.show()\n"
   ]
  },
  {
   "cell_type": "code",
   "execution_count": null,
   "id": "139bb08c",
   "metadata": {},
   "outputs": [],
   "source": [
    "sns.countplot(x='Pclass', data=titanic_data, hue='Sex')\n",
    "plt.title('Pclass Count by Sex')\n",
    "plt.xlabel('Pclass')\n",
    "plt.ylabel('Count')\n",
    "plt.show()"
   ]
  },
  {
   "cell_type": "code",
   "execution_count": null,
   "id": "ba1892d7",
   "metadata": {},
   "outputs": [],
   "source": [
    "titanic_data.head()"
   ]
  },
  {
   "cell_type": "code",
   "execution_count": null,
   "id": "048a5247",
   "metadata": {},
   "outputs": [],
   "source": [
    "titanic_data=titanic_data.drop(columns='Cabin',axis=1) #drop the cabin column"
   ]
  },
  {
   "cell_type": "code",
   "execution_count": null,
   "id": "1ba08b27",
   "metadata": {},
   "outputs": [],
   "source": [
    "X=titanic_data.drop(columns= ['PassengerId','Ticket','Survived'], axis=1)\n",
    "Y=titanic_data['Survived']"
   ]
  },
  {
   "cell_type": "code",
   "execution_count": null,
   "id": "084fc776",
   "metadata": {},
   "outputs": [],
   "source": [
    "print(X)"
   ]
  },
  {
   "cell_type": "code",
   "execution_count": null,
   "id": "09992f52",
   "metadata": {},
   "outputs": [],
   "source": [
    "print(Y)"
   ]
  },
  {
   "cell_type": "code",
   "execution_count": null,
   "id": "c3b0a886",
   "metadata": {},
   "outputs": [],
   "source": [
    "#splitting the training data & test the data\n",
    "X_train, X_test, Y_train, Y_test = train_test_split(X,Y, test_size=0.2, random_state=2)"
   ]
  },
  {
   "cell_type": "code",
   "execution_count": null,
   "id": "f942c309",
   "metadata": {},
   "outputs": [],
   "source": [
    "print(X.shape, X_train.shape, X_test.shape) #for see how much data ditibuted"
   ]
  },
  {
   "cell_type": "markdown",
   "id": "565802e2",
   "metadata": {},
   "source": [
    "## Model training"
   ]
  },
  {
   "cell_type": "code",
   "execution_count": null,
   "id": "f602d981",
   "metadata": {},
   "outputs": [],
   "source": [
    "#training with logistic regression model \n",
    "model = LogisticRegression()\n",
    "model.fit(X_train, Y_train)"
   ]
  },
  {
   "cell_type": "markdown",
   "id": "20b5e349",
   "metadata": {},
   "source": [
    "##MODEL EVALUATION  AND Accuracy Score"
   ]
  },
  {
   "cell_type": "code",
   "execution_count": null,
   "id": "160ac095",
   "metadata": {},
   "outputs": [],
   "source": [
    "# accuracy om training data\n",
    "X_train_prediction=model.predict(X_train)\n",
    "print(X_train_prediction)"
   ]
  },
  {
   "cell_type": "code",
   "execution_count": null,
   "id": "48368641",
   "metadata": {},
   "outputs": [],
   "source": [
    "training_data_accuracy=accuracy_score(Y_train, X_train_prediction)\n",
    "print('Accuracy score of the training data : ', training_data_accuracy)"
   ]
  },
  {
   "cell_type": "code",
   "execution_count": null,
   "id": "79e91c5d",
   "metadata": {},
   "outputs": [],
   "source": [
    "# accuracy on test  data\n",
    "X_test_prediction=model.predict(X_test)\n",
    "print(X_test_prediction)"
   ]
  },
  {
   "cell_type": "code",
   "execution_count": null,
   "id": "984e1874",
   "metadata": {},
   "outputs": [],
   "source": [
    "test_data_accuracy=accuracy_score(Y_test, X_test_prediction)\n",
    "print('Accuracy score of the test data : ', test_data_accuracy)"
   ]
  }
 ],
 "metadata": {
  "kernelspec": {
   "display_name": "Python 3 (ipykernel)",
   "language": "python",
   "name": "python3"
  },
  "language_info": {
   "codemirror_mode": {
    "name": "ipython",
    "version": 3
   },
   "file_extension": ".py",
   "mimetype": "text/x-python",
   "name": "python",
   "nbconvert_exporter": "python",
   "pygments_lexer": "ipython3",
   "version": "3.11.5"
  }
 },
 "nbformat": 4,
 "nbformat_minor": 5
}
